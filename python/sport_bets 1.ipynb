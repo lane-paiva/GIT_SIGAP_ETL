{
 "cells": [
  {
   "cell_type": "markdown",
   "id": "b69d7bda13eaa3ae",
   "metadata": {},
   "source": [
    "# Sport Bets\n",
    "\n",
    "#### Aqui você pegará todas as apostas do dia 10/10/2024 até 12/10/2024\n",
    "\n",
    "Primeiro precisamos pegar os ids das apostas esportivas que foram feitas nesse periodo na tabela de transações de sport_book"
   ]
  },
  {
   "cell_type": "code",
   "execution_count": null,
   "id": "bdb6f7cc6d9af116",
   "metadata": {
    "SqlCellData": {
     "data_source_name": "sporting_tech@sportingtech",
     "variableName$1": "transactions_by_day"
    }
   },
   "outputs": [],
   "source": [
    "%%sql\n",
    "select\n",
    "    DISTINCT (cts.sport_bet_master_id)\n",
    "from customer_transactions_sb cts\n",
    "         JOIN customer_transaction_details ctd ON cts.customer_transaction_id = ctd.customer_transaction_id\n",
    "         JOIN sport_bet_masters sbm on cts.sport_bet_master_id = sbm.sport_bet_master_id\n",
    "         JOIN sport_selection ss on sbm.sport_bet_master_id = ss.sport_bet_master_id\n",
    "where cts.sport_bet_master_id is not null\n",
    "  and ctd.transaction_date AT TIME ZONE 'UTC -6' BETWEEN '2024-10-10 00:00:00' AND '2024-10-12 23:59:59';"
   ]
  },
  {
   "cell_type": "markdown",
   "id": "2bf4ca3e53577042",
   "metadata": {},
   "source": [
    "Após termos os ids das apostas, podemos pegar as informações de apostas esportivas nas tabelas de sport_bets, sport_bet_masters, customers_tdt e customer_details_tdt"
   ]
  },
  {
   "cell_type": "code",
   "execution_count": null,
   "id": "4039a034825cc571",
   "metadata": {
    "SqlCellData": {
     "variableName$1": "sport_bets"
    }
   },
   "outputs": [],
   "source": [
    "%%sql\n",
    "select\n",
    "    ct.customer_id,\n",
    "    sob.sport_bet_master_id as bet_master_id,\n",
    "    (\n",
    "        select cll.ip\n",
    "        from customer_login_logs cll\n",
    "        where cll.customer_id = ct.customer_id and\n",
    "            cll.date_time <= sob.create_user_date\n",
    "        order by cll.date_time desc\n",
    "        limit 1\n",
    "    ) as ip_address,\n",
    "    CASE\n",
    "        WHEN sob.total_play = 1 THEN '1'\n",
    "        ELSE '2'\n",
    "        END as bet_type,\n",
    "    CASE\n",
    "        WHEN sob.status = 'O' THEN '1'\n",
    "        WHEN sob.status = 'W' THEN '2'\n",
    "        WHEN sob.status = 'L' THEN '3'\n",
    "        WHEN sob.status = 'V' THEN '3'\n",
    "        WHEN sob.status = 'C' THEN '2'\n",
    "        ELSE '2'\n",
    "        END as bet_status,\n",
    "    sob.bet_rate as fixed_odds,\n",
    "    sbm.initial_played_amount as bet_amount,\n",
    "    sob.return_amount as return_amount,\n",
    "    CASE\n",
    "        WHEN sob.status = 'C' THEN true\n",
    "        ELSE false\n",
    "        END as is_cashout,\n",
    "    CASE\n",
    "        WHEN sbm.is_system_bet = 1 THEN true\n",
    "        ELSE false\n",
    "        END as is_system_bet,\n",
    "    sob.create_user_date AT TIME ZONE 'UTC-3' as bet_timestamp,\n",
    "    sob.update_date AT TIME ZONE 'UTC-3' as update_timestamp\n",
    "from sport_bets sob\n",
    "         join sport_bet_masters sbm on sob.sport_bet_master_id = sbm.sport_bet_master_id\n",
    "         join customers_tdt ct on sob.customer_id = ct.customer_id\n",
    "         join customer_details_tdt cdt on ct.customer_id = cdt.customer_id\n",
    "where sob.sport_bet_master_id IN (123);"
   ]
  },
  {
   "cell_type": "markdown",
   "id": "842f0e51c42de87d",
   "metadata": {},
   "source": [
    "Aqui pegamos as informações de eventos que foram apostados"
   ]
  },
  {
   "cell_type": "code",
   "execution_count": null,
   "id": "fc6cbc8f48e8729d",
   "metadata": {
    "SqlCellData": {
     "data_source_name": "sporting_tech@sportingtech",
     "variableName$1": "sport_events"
    }
   },
   "outputs": [],
   "source": [
    "%%sql\n",
    "select\n",
    "    ss.fixture_id as event_id,\n",
    "    ss.sport_type_id as sport_code,\n",
    "    ss.league_name as competition,\n",
    "    ss.fixture_information as event_name,\n",
    "    CASE\n",
    "        WHEN ss.status = 'O' THEN '4'\n",
    "        ELSE '5'\n",
    "    END as event_status,\n",
    "    ss.fixture_start_date as event_start_date\n",
    "from sport_selection ss\n",
    "where\n",
    "    ss.sport_bet_master_id IN (123);"
   ]
  },
  {
   "cell_type": "markdown",
   "id": "ed49c42bde2d56a7",
   "metadata": {},
   "source": [
    "E por final pegamos os mercados dos eventos de cada aposta do dia"
   ]
  },
  {
   "cell_type": "code",
   "execution_count": null,
   "id": "fa87c606fcb7a472",
   "metadata": {
    "SqlCellData": {
     "data_source_name": "sporting_tech@sportingtech",
     "variableName$1": "sport_markets"
    }
   },
   "outputs": [],
   "source": [
    "%%sql\n",
    "select\n",
    "    ss.sport_bet_detail_id as market_id,\n",
    "    ss.fixture_id as event_id,\n",
    "    ss.sport_bet_master_id as bet_master_id,\n",
    "    ss.bet_type_name as market_name,\n",
    "    '1' as market_type,\n",
    "    ss.played_odd as fixed_odds_market,\n",
    "    ss.played_amount as market_value,\n",
    "    CASE\n",
    "        WHEN ss.status = 'O' THEN 'PENDING'\n",
    "        WHEN ss.status = 'C' THEN 'CASHOUT'\n",
    "        WHEN ss.status = 'W' THEN 'WON'\n",
    "        WHEN ss.status = 'L' THEN 'LOST'\n",
    "        WHEN ss.status = 'V' THEN 'CANCELLED'\n",
    "        ELSE 'SUSPENDED'\n",
    "    END as market_result\n",
    "from sport_selection ss\n",
    "where\n",
    "    ss.sport_bet_master_id IN (123);"
   ]
  }
 ],
 "metadata": {
  "kernelspec": {
   "display_name": "Python 3 (ipykernel)",
   "language": "python",
   "name": "python3"
  },
  "language_info": {
   "codemirror_mode": {
    "name": "ipython",
    "version": 3
   },
   "file_extension": ".py",
   "mimetype": "text/x-python",
   "name": "python",
   "nbconvert_exporter": "python",
   "pygments_lexer": "ipython3",
   "version": "3.10.12"
  }
 },
 "nbformat": 4,
 "nbformat_minor": 5
}
